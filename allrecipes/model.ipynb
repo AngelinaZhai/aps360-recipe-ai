{
 "cells": [
  {
   "cell_type": "markdown",
   "metadata": {},
   "source": [
    "a: peepeepoopoo :3"
   ]
  },
  {
   "cell_type": "code",
   "execution_count": 9,
   "metadata": {},
   "outputs": [],
   "source": [
    "#import all relevant python libraries\n",
    "import torch\n",
    "from PIL import Image\n",
    "import torchvision.transforms as transforms\n",
    "\n",
    "# #import all relevant modules from system\n",
    "# import sys\n",
    "# sys.path.insert(0, r\"C:\\Users\\angel\\OneDrive\\Desktop\\Github Repositories\\aps360-recipe-ai\\allrecipes\") #add outer directory layer to path\n",
    "from data_cleaner import data\n",
    "from open_npz import ingredients"
   ]
  },
  {
   "cell_type": "code",
   "execution_count": 14,
   "metadata": {},
   "outputs": [
    {
     "data": {
      "text/plain": [
       "array(['salt', 'pepper', 'butter', 'garlic', 'sugar', 'flour', 'onion',\n",
       "       'olive oil', 'water', 'ground', 'olive', 'powder', 'sliced',\n",
       "       'eggs', 'black pepper', 'milk', 'cheese', 'cream', 'lemon',\n",
       "       'chicken', 'sauce', 'tomatoes', 'brown', 'white', 'egg', 'onions',\n",
       "       'vinegar', 'vegetable', 'brown sugar', 'lemon juice',\n",
       "       'ground black pepper', 'parsley', 'cinnamon', 'garlic cloves',\n",
       "       'extract', 'vegetable oil', 'vanilla', 'baking powder',\n",
       "       'vanilla extract', 'unsalted butter', 'ginger', 'chocolate',\n",
       "       'leaves', 'soda', 'parmesan', 'tomato', 'celery', 'potatoes',\n",
       "       'kosher salt', 'mustard', 'cheddar', 'juice', 'baking soda',\n",
       "       'kosher', 'sour cream', 'cilantro', 'soy sauce', 'cream cheese',\n",
       "       'parmesan cheese', 'cheddar cheese', 'oregano', 'red pepper',\n",
       "       'carrots', 'clove', 'chicken broth', 'mushrooms', 'honey',\n",
       "       'packed', 'orange', 'bread', 'thyme', 'oil', 'basil', 'seasoning',\n",
       "       'extra', 'margarine', 'mayonnaise', 'bell pepper', 'cayenne',\n",
       "       'garlic powder', 'nutmeg', 'plus', 'cloves', 'garlic minced',\n",
       "       'white wine', 'bacon', 'peppers', 'ground cinnamon', 'heavy cream',\n",
       "       'boneless', 'garnish', 'paprika', 'black', 'beans', 'toasted',\n",
       "       'virgin olive oil', 'extra virgin olive oil', 'yellow',\n",
       "       'green onions', 'chicken breasts', 'green', 'sesame', 'wine',\n",
       "       'lime juice', 'corn', 'granulated sugar', 'ground pepper',\n",
       "       'coconut', 'spinach', 'ground beef', 'cayenne pepper',\n",
       "       'cornstarch', 'white sugar', 'wine vinegar', 'syrup', 'red onion',\n",
       "       'chili powder', 'rice', 'worcestershire sauce', 'ground cumin',\n",
       "       'mozzarella', 'orange juice', 'grated parmesan cheese', 'red wine',\n",
       "       'walnuts', 'chocolate chips', 'unsweetened', 'pasta',\n",
       "       'pepper flakes', 'minced garlic', 'temperature', 'almonds',\n",
       "       'sea salt', 'yogurt', 'canola', 'carrot', 'chicken stock',\n",
       "       'boneless skinless chicken', 'jalapeno', 'pecans', 'shrimp',\n",
       "       'red pepper flakes', 'wheat', 'dijon mustard', 'pineapple',\n",
       "       'lettuce', 'coriander', 'canola oil', 'dressing', 'chicken breast',\n",
       "       'rosemary', 'mozzarella cheese', 'raisins', 'powdered sugar',\n",
       "       'instant', 'buttermilk', 'sausage', 'red bell pepper',\n",
       "       'dried oregano', 'mushroom', 'sesame oil', 'roasted', 'scallions',\n",
       "       'cumin', 'semisweet chocolate', 'zucchini', 'whipping cream',\n",
       "       'apple', 'confectioners sugar', 'dry', 'crumbs', 'stock',\n",
       "       'peanut butter', 'freshly ground pepper', 'egg yolks', 'pork',\n",
       "       'red', 'cabbage', 'noodles', 'egg whites', 'chili', 'tomato sauce',\n",
       "       'tortillas', 'beef', 'tomato paste', 'chives', 'yeast',\n",
       "       'shortening', 'peas', 'fillets', 'lemon zest', 'olives',\n",
       "       'broccoli', 'cider vinegar', 'cooking spray', 'seeds', 'shallots',\n",
       "       'apples', 'balsamic vinegar', 'breadcrumbs'], dtype='<U39')"
      ]
     },
     "execution_count": 14,
     "metadata": {},
     "output_type": "execute_result"
    }
   ],
   "source": [
    "ingredients[:200]"
   ]
  },
  {
   "cell_type": "code",
   "execution_count": 4,
   "metadata": {},
   "outputs": [],
   "source": [
    "import os\n",
    "from os import listdir\n",
    "\n",
    "main_list = [] #main data list, organized in sequence of: image tensor, spliced ingredients list\n",
    "#define universal image transform\n",
    "transform = transforms.Compose([transforms.PILToTensor()])\n",
    "# folder_dir = \"images\"\n",
    "index = 0\n",
    "os.chdir(r\"C:\\Users\\angel\\OneDrive\\Desktop\\Github Repositories\\aps360-recipe-ai\\allrecipes\\images\") #replace directory here to system directory to image folder\n",
    "\n",
    "for i in range(0, len(data)):\n",
    "    try:\n",
    "        tmp = []\n",
    "        image = Image.open(str(data[i][4])+'.jpg')\n",
    "        tmp_tensor = transform(image)\n",
    "        tmp.append(tmp_tensor)\n",
    "        tmp.append(data[i][2])\n",
    "        # tmp.append(data[index][3]) #adding cooking directions\n",
    "        main_list.append(tmp)\n",
    "    except:\n",
    "        pass\n",
    "\n",
    "# os.chdir(\"..\") #reset directory to previous layer"
   ]
  },
  {
   "cell_type": "code",
   "execution_count": 5,
   "metadata": {},
   "outputs": [
    {
     "data": {
      "text/plain": [
       "11374"
      ]
     },
     "execution_count": 5,
     "metadata": {},
     "output_type": "execute_result"
    }
   ],
   "source": [
    "len(main_list)"
   ]
  },
  {
   "cell_type": "code",
   "execution_count": 7,
   "metadata": {},
   "outputs": [],
   "source": [
    "# import os\n",
    "# from os import listdir\n",
    "\n",
    "# main_list = [None]*11376 #main data list, organized in sequence of: image tensor, spliced ingredients list\n",
    "# #define universal image transform\n",
    "# transform = transforms.Compose([transforms.PILToTensor()])\n",
    "# # folder_dir = \"images\"\n",
    "# index = 0\n",
    "# os.chdir(r\"C:\\Users\\angel\\OneDrive\\Desktop\\Github Repositories\\aps360-recipe-ai\\allrecipes\\images\") #replace directory here to system directory to image folder\n",
    "\n",
    "# for i in range(0, len(data)):\n",
    "#     try:\n",
    "#         tmp = [None]*2\n",
    "#         image = Image.open(str(data[i][4])+'.jpg')\n",
    "#         tmp_tensor = transform(image)\n",
    "#         tmp[0] = tmp_tensor\n",
    "#         tmp[1] = data[i][2]\n",
    "#         # tmp.append(data[index][3]) #adding cooking directions\n",
    "#         main_list[i] = tmp\n",
    "#     except:\n",
    "#         pass\n",
    "\n",
    "# # os.chdir(\"..\") #reset directory to previous layer"
   ]
  },
  {
   "cell_type": "code",
   "execution_count": 6,
   "metadata": {},
   "outputs": [
    {
     "name": "stdout",
     "output_type": "stream",
     "text": [
      "[tensor([[[196, 195, 192,  ..., 172, 170, 171],\n",
      "         [195, 195, 192,  ..., 170, 170, 169],\n",
      "         [194, 193, 193,  ..., 167, 167, 166],\n",
      "         ...,\n",
      "         [180, 196, 192,  ..., 250, 250, 250],\n",
      "         [189, 207, 193,  ..., 250, 250, 250],\n",
      "         [196, 183, 181,  ..., 250, 250, 250]],\n",
      "\n",
      "        [[126, 125, 122,  ..., 104, 104, 105],\n",
      "         [125, 125, 122,  ..., 105, 105, 105],\n",
      "         [124, 123, 121,  ..., 105, 105, 104],\n",
      "         ...,\n",
      "         [ 69,  88,  84,  ..., 251, 251, 251],\n",
      "         [ 81, 101,  87,  ..., 251, 251, 251],\n",
      "         [ 90,  77,  78,  ..., 251, 251, 251]],\n",
      "\n",
      "        [[  5,   4,   1,  ...,   3,   7,   8],\n",
      "         [  4,   4,   1,  ...,   3,   5,   5],\n",
      "         [  3,   2,   3,  ...,   2,   2,   1],\n",
      "         ...,\n",
      "         [  0,  16,  12,  ..., 245, 245, 245],\n",
      "         [  8,  27,  13,  ..., 245, 245, 245],\n",
      "         [ 14,   1,   1,  ..., 245, 245, 245]]], dtype=torch.uint8), ['yeast', 'water', 'white sugar', 'salt', 'egg', 'butter', 'flour', 'butter']]\n"
     ]
    }
   ],
   "source": [
    "print(main_list[0])"
   ]
  }
 ],
 "metadata": {
  "kernelspec": {
   "display_name": "Python 3.10.1 64-bit",
   "language": "python",
   "name": "python3"
  },
  "language_info": {
   "codemirror_mode": {
    "name": "ipython",
    "version": 3
   },
   "file_extension": ".py",
   "mimetype": "text/x-python",
   "name": "python",
   "nbconvert_exporter": "python",
   "pygments_lexer": "ipython3",
   "version": "3.10.1"
  },
  "orig_nbformat": 4,
  "vscode": {
   "interpreter": {
    "hash": "91555e203e11ede8496fb03363e909d37d72bb051c20872b508296bfc889c327"
   }
  }
 },
 "nbformat": 4,
 "nbformat_minor": 2
}
