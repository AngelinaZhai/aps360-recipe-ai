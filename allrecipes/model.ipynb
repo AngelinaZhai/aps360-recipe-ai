{
 "cells": [
  {
   "cell_type": "markdown",
   "metadata": {},
   "source": [
    "a: peepeepoopoo :3"
   ]
  },
  {
   "cell_type": "code",
   "execution_count": 2,
   "metadata": {},
   "outputs": [
    {
     "name": "stdout",
     "output_type": "stream",
     "text": [
      "Loading Done.\n",
      "11376\n",
      "Data Cleaning Complete.\n"
     ]
    }
   ],
   "source": [
    "#import all relevant python libraries\n",
    "import torch\n",
    "from PIL import Image\n",
    "import torchvision.transforms as transforms\n",
    "\n",
    "# #import all relevant modules from system\n",
    "# import sys\n",
    "# sys.path.insert(0, r\"C:\\Users\\angel\\OneDrive\\Desktop\\Github Repositories\\aps360-recipe-ai\\allrecipes\") #add outer directory layer to path\n",
    "from data_cleaner import data"
   ]
  },
  {
   "cell_type": "code",
   "execution_count": 8,
   "metadata": {},
   "outputs": [],
   "source": [
    "import os\n",
    "from os import listdir\n",
    "\n",
    "main_list = [] #main data list, organized in sequence of: image tensor, spliced ingredients list\n",
    "#define universal image transform\n",
    "transform = transforms.Compose([transforms.PILToTensor()])\n",
    "# folder_dir = \"images\"\n",
    "index = 0\n",
    "os.chdir(r\"C:\\Users\\angel\\OneDrive\\Desktop\\Github Repositories\\aps360-recipe-ai\\allrecipes\\images\") #replace directory here to system directory to image folder\n",
    "\n",
    "for i in range(0, len(data)):\n",
    "    try:\n",
    "        tmp = []\n",
    "        image = Image.open(str(data[i][4])+'.jpg')\n",
    "        tmp_tensor = transform(image)\n",
    "        tmp.append(tmp_tensor)\n",
    "        tmp.append(data[i][2])\n",
    "        # tmp.append(data[index][3]) #adding cooking directions\n",
    "        main_list.append(tmp)\n",
    "    except:\n",
    "        pass\n",
    "\n",
    "# os.chdir(\"..\") #reset directory to previous layer"
   ]
  },
  {
   "cell_type": "code",
   "execution_count": 7,
   "metadata": {},
   "outputs": [],
   "source": [
    "# import os\n",
    "# from os import listdir\n",
    "\n",
    "# main_list = [None]*11376 #main data list, organized in sequence of: image tensor, spliced ingredients list\n",
    "# #define universal image transform\n",
    "# transform = transforms.Compose([transforms.PILToTensor()])\n",
    "# # folder_dir = \"images\"\n",
    "# index = 0\n",
    "# os.chdir(r\"C:\\Users\\angel\\OneDrive\\Desktop\\Github Repositories\\aps360-recipe-ai\\allrecipes\\images\") #replace directory here to system directory to image folder\n",
    "\n",
    "# for i in range(0, len(data)):\n",
    "#     try:\n",
    "#         tmp = [None]*2\n",
    "#         image = Image.open(str(data[i][4])+'.jpg')\n",
    "#         tmp_tensor = transform(image)\n",
    "#         tmp[0] = tmp_tensor\n",
    "#         tmp[1] = data[i][2]\n",
    "#         # tmp.append(data[index][3]) #adding cooking directions\n",
    "#         main_list[i] = tmp\n",
    "#     except:\n",
    "#         pass\n",
    "\n",
    "# # os.chdir(\"..\") #reset directory to previous layer"
   ]
  },
  {
   "cell_type": "code",
   "execution_count": 9,
   "metadata": {},
   "outputs": [
    {
     "name": "stdout",
     "output_type": "stream",
     "text": [
      "[tensor([[[196, 195, 192,  ..., 172, 170, 171],\n",
      "         [195, 195, 192,  ..., 170, 170, 169],\n",
      "         [194, 193, 193,  ..., 167, 167, 166],\n",
      "         ...,\n",
      "         [180, 196, 192,  ..., 250, 250, 250],\n",
      "         [189, 207, 193,  ..., 250, 250, 250],\n",
      "         [196, 183, 181,  ..., 250, 250, 250]],\n",
      "\n",
      "        [[126, 125, 122,  ..., 104, 104, 105],\n",
      "         [125, 125, 122,  ..., 105, 105, 105],\n",
      "         [124, 123, 121,  ..., 105, 105, 104],\n",
      "         ...,\n",
      "         [ 69,  88,  84,  ..., 251, 251, 251],\n",
      "         [ 81, 101,  87,  ..., 251, 251, 251],\n",
      "         [ 90,  77,  78,  ..., 251, 251, 251]],\n",
      "\n",
      "        [[  5,   4,   1,  ...,   3,   7,   8],\n",
      "         [  4,   4,   1,  ...,   3,   5,   5],\n",
      "         [  3,   2,   3,  ...,   2,   2,   1],\n",
      "         ...,\n",
      "         [  0,  16,  12,  ..., 245, 245, 245],\n",
      "         [  8,  27,  13,  ..., 245, 245, 245],\n",
      "         [ 14,   1,   1,  ..., 245, 245, 245]]], dtype=torch.uint8), ['yeast', 'water', 'white sugar', 'salt', 'egg', 'butter', 'flour', 'butter']]\n"
     ]
    }
   ],
   "source": [
    "print(main_list[0])"
   ]
  },
  {
   "cell_type": "code",
   "execution_count": 17,
   "metadata": {},
   "outputs": [
    {
     "name": "stdout",
     "output_type": "stream",
     "text": [
      "11374\n"
     ]
    }
   ],
   "source": [
    "print(len(main_list))"
   ]
  }
 ],
 "metadata": {
  "kernelspec": {
   "display_name": "Python 3.10.1 64-bit",
   "language": "python",
   "name": "python3"
  },
  "language_info": {
   "codemirror_mode": {
    "name": "ipython",
    "version": 3
   },
   "file_extension": ".py",
   "mimetype": "text/x-python",
   "name": "python",
   "nbconvert_exporter": "python",
   "pygments_lexer": "ipython3",
   "version": "3.10.1"
  },
  "orig_nbformat": 4,
  "vscode": {
   "interpreter": {
    "hash": "91555e203e11ede8496fb03363e909d37d72bb051c20872b508296bfc889c327"
   }
  }
 },
 "nbformat": 4,
 "nbformat_minor": 2
}
