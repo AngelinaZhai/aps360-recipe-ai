{
 "cells": [
  {
   "cell_type": "code",
   "execution_count": 1,
   "metadata": {},
   "outputs": [
    {
     "name": "stderr",
     "output_type": "stream",
     "text": [
      "c:\\Users\\angel\\AppData\\Local\\Programs\\Python\\Python310\\lib\\site-packages\\tqdm\\auto.py:22: TqdmWarning: IProgress not found. Please update jupyter and ipywidgets. See https://ipywidgets.readthedocs.io/en/stable/user_install.html\n",
      "  from .autonotebook import tqdm as notebook_tqdm\n"
     ]
    },
    {
     "name": "stdout",
     "output_type": "stream",
     "text": [
      "Valid ID Collection done\n",
      "Total test datapoints: 1657\n"
     ]
    }
   ],
   "source": [
    "import os\n",
    "import openpyxl\n",
    "import torch\n",
    "from PIL import Image\n",
    "import torchvision.transforms as transforms\n",
    "\n",
    "\n",
    "loc = (\"excel_datasheet.xlsx\")\n",
    "\n",
    "wb = openpyxl.load_workbook(loc, read_only=True)\n",
    "sheet = wb.active\n",
    "\n",
    "\n",
    "valid_ids = {} #change this to dict\n",
    "for root, dirs, files in os.walk(r\"C:\\Users\\angel\\OneDrive\\Desktop\\Github Repositories\\aps360-recipe-ai\\allrecipes\\test_images\"):\n",
    "    for filename in files:\n",
    "        # valid_ids.append(filename[:-4])\n",
    "        valid_ids[int(filename[:-4])] = filename\n",
    "        \n",
    "print(\"Valid ID Collection done\") #30 seconds\n",
    "\n",
    "os.chdir(r\"C:\\Users\\angel\\OneDrive\\Desktop\\Github Repositories\\aps360-recipe-ai\\allrecipes\\test_images\")\n",
    "\n",
    "# print(valid_ids[1])\n",
    "\n",
    "# # print(valid_ids)\n",
    "data = []\n",
    "transform = transforms.Compose([transforms.PILToTensor()])\n",
    "for i in range(2, 5000):\n",
    "    # if (sheet.cell(row=i, column=1).value in valid_ids):\n",
    "    try:\n",
    "        img_name = valid_ids[sheet.cell(row=i, column=1).value]\n",
    "        #add data to main test data list\n",
    "\n",
    "        tmp = []\n",
    "        tmp1 = []\n",
    "\n",
    "        image = Image.open(img_name)\n",
    "        tmp_tensor = transform(image)\n",
    "        tmp.append(tmp_tensor)\n",
    "\n",
    "        \n",
    "        # tmp.append(sheet.cell(row=i, column=2).value) #name\n",
    "        # tmp.append(sheet.cell(row=i, column=1).value) #recipe id\n",
    "\n",
    "        #adding cleaned ingredients\n",
    "        tmp_str=(sheet.cell(row=i, column=3).value)\n",
    "        for character in \"[]'\":\n",
    "            tmp_str = tmp_str.replace(character, '')\n",
    "        tmp1 = tmp_str.split(',')\n",
    "        tmp.append(tmp1)\n",
    "        \n",
    "        # #cleaning cooking directions; uncomment this block if need instructions\n",
    "        # tmp_str = (sheet.cell(row=i, column=5).value)\n",
    "        # for character in \"[]\":\n",
    "        #     tmp_str = tmp_str.replace(character, '')\n",
    "        # tmp1 = tmp_str.split(\"',\")\n",
    "        # for k in range(0, len(tmp1)):\n",
    "        #     tmp1[k]=tmp1[k].replace('\\'', '')\n",
    "        # tmp.append(tmp1)\n",
    "        # for character in \"[]\":\n",
    "        #     tmp_str = tmp_str.replace(character, '')\n",
    "        \n",
    "        # tmp.append(sheet.cell(row=i, column=5).value) #directions - need to convert to list\n",
    "        data.append(tmp)\n",
    "        # print(\"added\")\n",
    "    except:\n",
    "        continue\n",
    "    \n",
    "    \n",
    "os.chdir(r\"C:\\Users\\angel\\OneDrive\\Desktop\\Github Repositories\\aps360-recipe-ai\\allrecipes\")\n",
    "\n",
    "\n",
    "print(\"Total test datapoints: {}\".format(len(data)))\n",
    "# print(data)"
   ]
  }
 ],
 "metadata": {
  "kernelspec": {
   "display_name": "Python 3.10.1 64-bit",
   "language": "python",
   "name": "python3"
  },
  "language_info": {
   "codemirror_mode": {
    "name": "ipython",
    "version": 3
   },
   "file_extension": ".py",
   "mimetype": "text/x-python",
   "name": "python",
   "nbconvert_exporter": "python",
   "pygments_lexer": "ipython3",
   "version": "3.10.1"
  },
  "orig_nbformat": 4,
  "vscode": {
   "interpreter": {
    "hash": "91555e203e11ede8496fb03363e909d37d72bb051c20872b508296bfc889c327"
   }
  }
 },
 "nbformat": 4,
 "nbformat_minor": 2
}
